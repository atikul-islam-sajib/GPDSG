{
 "cells": [
  {
   "cell_type": "code",
   "execution_count": 2,
   "metadata": {},
   "outputs": [
    {
     "name": "stderr",
     "output_type": "stream",
     "text": [
      "/var/folders/_6/fpk79cm53rxgcj2gh5prtww00000gn/T/ipykernel_1927/3336430291.py:1: DeprecationWarning: \n",
      "Pyarrow will become a required dependency of pandas in the next major release of pandas (pandas 3.0),\n",
      "(to allow more performant data types, such as the Arrow string type, and better interoperability with other libraries)\n",
      "but was not found to be installed on your system.\n",
      "If this would cause problems for you,\n",
      "please provide us feedback at https://github.com/pandas-dev/pandas/issues/54466\n",
      "        \n",
      "  import pandas as pd\n"
     ]
    }
   ],
   "source": [
    "import pandas as pd\n",
    "import numpy as np\n",
    "import matplotlib.pyplot as plt\n",
    "import seaborn as sns\n",
    "from collections import OrderedDict\n",
    "import torch\n",
    "import torch.nn as nn\n",
    "import torch.optim as optim\n",
    "from torch.utils.data import Dataset, DataLoader\n",
    "from torchvision import transforms, datasets"
   ]
  },
  {
   "cell_type": "code",
   "execution_count": 3,
   "metadata": {},
   "outputs": [
    {
     "name": "stderr",
     "output_type": "stream",
     "text": [
      "0.3%"
     ]
    },
    {
     "name": "stdout",
     "output_type": "stream",
     "text": [
      "Downloading http://yann.lecun.com/exdb/mnist/train-images-idx3-ubyte.gz\n",
      "Downloading http://yann.lecun.com/exdb/mnist/train-images-idx3-ubyte.gz to data/MNIST/raw/train-images-idx3-ubyte.gz\n"
     ]
    },
    {
     "name": "stderr",
     "output_type": "stream",
     "text": [
      "100.0%\n"
     ]
    },
    {
     "name": "stdout",
     "output_type": "stream",
     "text": [
      "Extracting data/MNIST/raw/train-images-idx3-ubyte.gz to data/MNIST/raw\n",
      "\n",
      "Downloading http://yann.lecun.com/exdb/mnist/train-labels-idx1-ubyte.gz\n"
     ]
    },
    {
     "name": "stderr",
     "output_type": "stream",
     "text": [
      "100.0%"
     ]
    },
    {
     "name": "stdout",
     "output_type": "stream",
     "text": [
      "Downloading http://yann.lecun.com/exdb/mnist/train-labels-idx1-ubyte.gz to data/MNIST/raw/train-labels-idx1-ubyte.gz\n",
      "Extracting data/MNIST/raw/train-labels-idx1-ubyte.gz to data/MNIST/raw\n",
      "\n",
      "Downloading http://yann.lecun.com/exdb/mnist/t10k-images-idx3-ubyte.gz\n"
     ]
    },
    {
     "name": "stderr",
     "output_type": "stream",
     "text": [
      "\n",
      "31.8%"
     ]
    },
    {
     "name": "stdout",
     "output_type": "stream",
     "text": [
      "Downloading http://yann.lecun.com/exdb/mnist/t10k-images-idx3-ubyte.gz to data/MNIST/raw/t10k-images-idx3-ubyte.gz\n"
     ]
    },
    {
     "name": "stderr",
     "output_type": "stream",
     "text": [
      "100.0%\n",
      "100.0%\n"
     ]
    },
    {
     "name": "stdout",
     "output_type": "stream",
     "text": [
      "Extracting data/MNIST/raw/t10k-images-idx3-ubyte.gz to data/MNIST/raw\n",
      "\n",
      "Downloading http://yann.lecun.com/exdb/mnist/t10k-labels-idx1-ubyte.gz\n",
      "Downloading http://yann.lecun.com/exdb/mnist/t10k-labels-idx1-ubyte.gz to data/MNIST/raw/t10k-labels-idx1-ubyte.gz\n",
      "Extracting data/MNIST/raw/t10k-labels-idx1-ubyte.gz to data/MNIST/raw\n",
      "\n"
     ]
    }
   ],
   "source": [
    "# Download the dataset\n",
    "transform = transforms.Compose(\n",
    "    [transforms.ToTensor(), transforms.Normalize((0.5,), (0.5,))]\n",
    ")\n",
    "\n",
    "mnist_data = datasets.MNIST(\n",
    "    root=\"data/\", train=True, transform=transforms.ToTensor(), download=True\n",
    ")\n",
    "dataloader = DataLoader(mnist_data, batch_size=64, shuffle=True)"
   ]
  },
  {
   "cell_type": "code",
   "execution_count": 4,
   "metadata": {},
   "outputs": [
    {
     "name": "stdout",
     "output_type": "stream",
     "text": [
      "Total data # 60000 \n",
      "Total label # 60000 \n",
      "The shape of the dataset # torch.Size([32, 1, 28, 28]) \n"
     ]
    }
   ],
   "source": [
    "# Check the quantity of the dataset\n",
    "\n",
    "total_data = 0\n",
    "total_label = 0\n",
    "\n",
    "for data, label in dataloader:\n",
    "    total_data+= data.shape[0]\n",
    "    total_label+=label.shape[0]\n",
    "    \n",
    "\n",
    "print(\"Total data # {} \".format(total_data))\n",
    "print(\"Total label # {} \".format(total_label))\n",
    "print(\"The shape of the dataset # {} \".format(data.shape))"
   ]
  },
  {
   "cell_type": "code",
   "execution_count": 9,
   "metadata": {},
   "outputs": [
    {
     "data": {
      "image/png": "[encoded data removed]",
      "text/plain": [
       "<Figure size 1000x1000 with 20 Axes>"
      ]
     },
     "metadata": {},
     "output_type": "display_data"
    }
   ],
   "source": [
    "# Display some of the datasets\n",
    "\n",
    "plt.figure(figsize=(10, 10))\n",
    "\n",
    "data, label = next(iter(dataloader))\n",
    "data = data[0:20]\n",
    "\n",
    "for index, digit in enumerate(data):\n",
    "    plt.subplot(4, 5, index+1)\n",
    "    plt.imshow(digit.reshape(28, 28), cmap=\"gray\")\n",
    "    plt.axis(\"off\")\n",
    "\n",
    "plt.show()"
   ]
  },
  {
   "cell_type": "code",
   "execution_count": 92,
   "metadata": {},
   "outputs": [],
   "source": [
    "class Generator(nn.Module):\n",
    "    \"\"\"\n",
    "    A deep convolutional generative adversarial network (DCGAN) generator module.\n",
    "\n",
    "    This class implements a generator as part of a DCGAN, using a series of transposed convolutional layers to generate images from random noise. It is designed to be used in generative tasks where the goal is to produce realistic images.\n",
    "\n",
    "    Parameters:\n",
    "    - latent_space (int): Dimensionality of the latent space (random noise vector). Default is 100.\n",
    "\n",
    "    The architecture of the generator is as follows:\n",
    "    1. Transposed Convolutional Layer: Expands the input latent vector into a small feature map.\n",
    "    2. Batch Normalization: Stabilizes learning by normalizing the input to each activation layer.\n",
    "    3. ReLU Activation: Introduces non-linearity, allowing the model to generate complex patterns.\n",
    "    4. Further transposed convolutions, batch normalizations, and ReLU activations: Continue to upscale the feature map to the desired output size.\n",
    "    5. Tanh Activation: Scales the output to a range of [-1, 1], typical for image data.\n",
    "\n",
    "    The final output is a single-channel image of the same height and width as the kernel in the last transposed convolutional layer. The output size and quality depend on the parameters of each layer and the complexity of the latent space.\n",
    "\n",
    "    Example usage:\n",
    "        # Initialize the generator\n",
    "        gen = Generator(latent_space=100)\n",
    "\n",
    "        # Generate a random noise vector\n",
    "        noise = torch.randn((1, 100, 1, 1))\n",
    "\n",
    "        # Generate an image\n",
    "        fake_image = gen(noise)\n",
    "\n",
    "    Note:\n",
    "    - This implementation assumes a single-channel output (e.g., grayscale images). For generating RGB images, modify the output channel of the last layer to 3.\n",
    "    - The quality of generated images heavily depends on the training process and the complexity of the model.\n",
    "\n",
    "    For more information on DCGANs, refer to the original paper: \"Unsupervised Representation Learning with Deep Convolutional Generative Adversarial Networks\" by Radford et al.\n",
    "    \"\"\"\n",
    "\n",
    "    def __init__(self, latent_space=100):\n",
    "        super(Generator, self).__init__()\n",
    "        self.latent_space = latent_space\n",
    "        self.model = nn.Sequential(\n",
    "            nn.ConvTranspose2d(\n",
    "                in_channels=self.latent_space,out_channels=256,kernel_size=4,stride=1,padding=0,bias=False,),\n",
    "            nn.BatchNorm2d(256),\n",
    "            nn.ReLU(),\n",
    "            \n",
    "            nn.ConvTranspose2d(\n",
    "                in_channels=256,out_channels=128,kernel_size=4,stride=2,padding=1,bias=False,),\n",
    "            nn.BatchNorm2d(128),\n",
    "            nn.ReLU(),\n",
    "            \n",
    "            nn.ConvTranspose2d(\n",
    "                in_channels=128,out_channels=64,kernel_size=4,stride=2,padding=1,bias=False,),\n",
    "            nn.ReLU(),\n",
    "            \n",
    "            nn.ConvTranspose2d(\n",
    "                in_channels=64,out_channels=1,kernel_size=4,stride=2,padding=3,bias=False,),\n",
    "            nn.Tanh(),\n",
    "        )\n",
    "\n",
    "    def forward(self, x):\n",
    "        if x is not None:\n",
    "            x = self.model(x)\n",
    "        else:\n",
    "            x = \"ERROR\"\n",
    "        return x"
   ]
  },
  {
   "cell_type": "code",
   "execution_count": 78,
   "metadata": {},
   "outputs": [
    {
     "data": {
      "text/plain": [
       "torch.Size([64, 1, 28, 28])"
      ]
     },
     "execution_count": 78,
     "metadata": {},
     "output_type": "execute_result"
    }
   ],
   "source": [
    "batch_size = 64\n",
    "latent_space = 100\n",
    "num_channel = 1\n",
    "\n",
    "dataset = torch.randn(batch_size, latent_space, 1, 1)\n",
    "\n",
    "generator = Generator()\n",
    "generator(dataset).shape"
   ]
  },
  {
   "cell_type": "code",
   "execution_count": 68,
   "metadata": {},
   "outputs": [],
   "source": [
    "class Discriminator(nn.Module):\n",
    "    \"\"\"\n",
    "    A deep convolutional generative adversarial network (DCGAN) discriminator module.\n",
    "\n",
    "    This class implements a discriminator as part of a DCGAN, using a series of convolutional layers to classify images as real or generated (fake). It is designed to be used in generative tasks alongside a generator to produce realistic images.\n",
    "\n",
    "    The architecture of the discriminator is as follows:\n",
    "    1. Convolutional Layer: Reduces the spatial dimension and increases the depth of feature maps from the input image.\n",
    "    2. LeakyReLU Activation: Allows for a small gradient when the unit is not active, preventing dying ReLU problem and helping the gradients to flow through the architecture.\n",
    "    3. Batch Normalization: Stabilizes learning by normalizing the input to each activation layer.\n",
    "    4. Further convolutions, leaky ReLUs, and batch normalizations: Continue to process the feature maps.\n",
    "    5. Fully Connected Layer: Flattens the output and maps it to a single value.\n",
    "    6. Sigmoid Activation: Outputs a probability indicating how likely the input image is real.\n",
    "\n",
    "    The discriminator takes a single-channel image (e.g., grayscale) as input and outputs a scalar probability between 0 (fake) and 1 (real).\n",
    "\n",
    "    Example usage:\n",
    "        # Initialize the discriminator\n",
    "        disc = Discriminator()\n",
    "\n",
    "        # Pass an image (real or generated) to the discriminator\n",
    "        probability_real = disc(real_image)\n",
    "        probability_fake = disc(generated_image)\n",
    "\n",
    "    Note:\n",
    "    - The discriminator is crucial for the adversarial learning process, guiding the generator to produce more realistic images.\n",
    "    - The input size to the discriminator must match the output size of the generator.\n",
    "    - For RGB images, modify the input channel of the first layer to 3.\n",
    "\n",
    "    This implementation is based on the principles outlined in the DCGAN paper: \"Unsupervised Representation Learning with Deep Convolutional Generative Adversarial Networks\" by Radford et al.\n",
    "    \"\"\"\n",
    "\n",
    "    def __init__(self):\n",
    "        super(Discriminator, self).__init__()\n",
    "        self.model = nn.Sequential(\n",
    "            nn.Conv2d(\n",
    "                in_channels=1, out_channels=64, kernel_size=4, stride=2, padding=1\n",
    "            ),\n",
    "            nn.LeakyReLU(negative_slope=0.2),\n",
    "            nn.Conv2d(\n",
    "                in_channels=64, out_channels=128, kernel_size=4, stride=2, padding=1\n",
    "            ),\n",
    "            nn.BatchNorm2d(num_features=128),\n",
    "            nn.LeakyReLU(negative_slope=0.2),\n",
    "            nn.Conv2d(\n",
    "                in_channels=128, out_channels=256, kernel_size=4, stride=1, padding=0\n",
    "            ),\n",
    "            nn.BatchNorm2d(num_features=256),\n",
    "            nn.LeakyReLU(negative_slope=0.2),\n",
    "        )\n",
    "        self.out = nn.Sequential(\n",
    "            nn.Linear(in_features=256 * 4 * 4, out_features=1), nn.Sigmoid()\n",
    "        )\n",
    "\n",
    "    def forward(self, x):\n",
    "        if x is not None:\n",
    "            x = self.model(x)\n",
    "            x = x.reshape(x.shape[0], -1)\n",
    "            x = self.out(x)\n",
    "        else:\n",
    "            x = \"ERROR\"\n",
    "        return x"
   ]
  },
  {
   "cell_type": "code",
   "execution_count": 79,
   "metadata": {},
   "outputs": [
    {
     "data": {
      "text/plain": [
       "torch.Size([64, 1])"
      ]
     },
     "execution_count": 79,
     "metadata": {},
     "output_type": "execute_result"
    }
   ],
   "source": [
    "batch_size = 64\n",
    "latent_space = 100\n",
    "num_channel = 1\n",
    "\n",
    "dataset = torch.randn(batch_size, num_channel, 28, 28)\n",
    "\n",
    "discriminator = Discriminator()\n",
    "discriminator(dataset).shape"
   ]
  },
  {
   "cell_type": "code",
   "execution_count": 80,
   "metadata": {},
   "outputs": [
    {
     "data": {
      "text/plain": [
       "device(type='mps')"
      ]
     },
     "execution_count": 80,
     "metadata": {},
     "output_type": "execute_result"
    }
   ],
   "source": [
    "device = torch.device(\"mps\" if torch.backends.mps.is_available() else \"cpu\")\n",
    "device"
   ]
  },
  {
   "cell_type": "code",
   "execution_count": 81,
   "metadata": {},
   "outputs": [],
   "source": [
    "generator = Generator().to(device)\n",
    "discriminator = Discriminator().to(device)"
   ]
  },
  {
   "cell_type": "code",
   "execution_count": 82,
   "metadata": {},
   "outputs": [],
   "source": [
    "loss_function = nn.BCELoss()\n",
    "\n",
    "optimizer_generator = optim.Adam(generator.parameters(), lr=0.0002, betas=(0.5, 0.999))\n",
    "optimizer_discriminator = optim.Adam(discriminator.parameters(), lr=0.0002, betas=(0.5, 0.999)) "
   ]
  },
  {
   "cell_type": "code",
   "execution_count": 87,
   "metadata": {},
   "outputs": [
    {
     "name": "stdout",
     "output_type": "stream",
     "text": [
      "Epochs - 1/100 \n",
      "[===========] d_loss: 0.3176629514113736 - g_loss: 3.4125840472698368 \n",
      "Epochs - 2/100 \n",
      "[===========] d_loss: 0.3429413336331148 - g_loss: 3.2205634406412336 \n",
      "Epochs - 3/100 \n",
      "[===========] d_loss: 0.4089547372115319 - g_loss: 2.961396087906254 \n",
      "Epochs - 4/100 \n",
      "[===========] d_loss: 0.4310298822264173 - g_loss: 2.871013543689683 \n",
      "Epochs - 5/100 \n",
      "[===========] d_loss: 0.43254334644785825 - g_loss: 2.873204589461975 \n",
      "Epochs - 6/100 \n",
      "[===========] d_loss: 0.44032290548499203 - g_loss: 2.9152018117752156 \n",
      "Epochs - 7/100 \n",
      "[===========] d_loss: 0.43086090768927704 - g_loss: 2.979964218032894 \n",
      "Epochs - 8/100 \n",
      "[===========] d_loss: 0.4293581339945671 - g_loss: 3.003590929387475 \n",
      "Epochs - 9/100 \n",
      "[===========] d_loss: 0.40401751012690285 - g_loss: 3.1151560238683658 \n",
      "Epochs - 10/100 \n",
      "[===========] d_loss: 0.40215122607598175 - g_loss: 3.1689725609412833 \n",
      "Epochs - 11/100 \n",
      "[===========] d_loss: 0.40571515256566787 - g_loss: 3.1953360403079722 \n",
      "Epochs - 12/100 \n",
      "[===========] d_loss: 0.3632229131453835 - g_loss: 3.3223801028372635 \n",
      "Epochs - 13/100 \n",
      "[===========] d_loss: 0.3932156841526789 - g_loss: 3.286178048930443 \n",
      "Epochs - 14/100 \n",
      "[===========] d_loss: 0.35274165860816104 - g_loss: 3.3774826516474743 \n",
      "Epochs - 15/100 \n",
      "[===========] d_loss: 0.34990722064111535 - g_loss: 3.4648253279708343 \n",
      "Epochs - 16/100 \n",
      "[===========] d_loss: 0.3721101820738966 - g_loss: 3.4555264313274354 \n",
      "Epochs - 17/100 \n",
      "[===========] d_loss: 0.34167736468475257 - g_loss: 3.537402732635358 \n",
      "Epochs - 18/100 \n",
      "[===========] d_loss: 0.3548643873778106 - g_loss: 3.5385464087351046 \n",
      "Epochs - 19/100 \n",
      "[===========] d_loss: 0.35253355581400747 - g_loss: 3.5940791585806338 \n",
      "Epochs - 20/100 \n",
      "[===========] d_loss: 0.33072019023284605 - g_loss: 3.64185225912757 \n",
      "Epochs - 21/100 \n",
      "[===========] d_loss: 0.35593083838838885 - g_loss: 3.5821264127233645 \n",
      "Epochs - 22/100 \n",
      "[===========] d_loss: 0.3457550375597246 - g_loss: 3.6380850400116396 \n",
      "Epochs - 23/100 \n",
      "[===========] d_loss: 0.32305627314647883 - g_loss: 3.786750638678765 \n",
      "Epochs - 24/100 \n",
      "[===========] d_loss: 0.3304387084297788 - g_loss: 3.669921908297264 \n",
      "Epochs - 25/100 \n",
      "[===========] d_loss: 0.33034802920449136 - g_loss: 3.7400125411273573 \n",
      "Epochs - 26/100 \n",
      "[===========] d_loss: 0.3606060065352904 - g_loss: 3.684917615166605 \n",
      "Epochs - 27/100 \n",
      "[===========] d_loss: 0.30107377963994486 - g_loss: 3.828695676728352 \n",
      "Epochs - 28/100 \n",
      "[===========] d_loss: 0.3463232193046859 - g_loss: 3.7978679733172154 \n",
      "Epochs - 29/100 \n",
      "[===========] d_loss: 0.29979758072239376 - g_loss: 3.864921808115709 \n",
      "Epochs - 30/100 \n",
      "[===========] d_loss: 0.31514176695760504 - g_loss: 3.8990028361394717 \n",
      "Epochs - 31/100 \n",
      "[===========] d_loss: 0.3469393065830728 - g_loss: 3.896719368583739 \n",
      "Epochs - 32/100 \n",
      "[===========] d_loss: 0.30197230556102067 - g_loss: 3.921827661711524 \n",
      "Epochs - 33/100 \n",
      "[===========] d_loss: 0.31356721506841273 - g_loss: 3.9211419253334054 \n",
      "Epochs - 34/100 \n",
      "[===========] d_loss: 0.30787491003301604 - g_loss: 3.9580283619955914 \n",
      "Epochs - 35/100 \n",
      "[===========] d_loss: 0.3452248748090031 - g_loss: 3.935084344862875 \n",
      "Epochs - 36/100 \n",
      "[===========] d_loss: 0.29066608386285014 - g_loss: 4.001189234096612 \n",
      "Epochs - 37/100 \n",
      "[===========] d_loss: 0.3179311890230536 - g_loss: 4.0096783342519045 \n",
      "Epochs - 38/100 \n",
      "[===========] d_loss: 0.305320687061831 - g_loss: 4.013290182613869 \n",
      "Epochs - 39/100 \n",
      "[===========] d_loss: 0.3378897774765995 - g_loss: 3.9543353399551755 \n",
      "Epochs - 40/100 \n",
      "[===========] d_loss: 0.32249534784206574 - g_loss: 3.961241949023977 \n",
      "Epochs - 41/100 \n",
      "[===========] d_loss: 0.2891842418991681 - g_loss: 4.048558621041811 \n",
      "Epochs - 42/100 \n",
      "[===========] d_loss: 0.3044521832691708 - g_loss: 4.08520605027485 \n",
      "Epochs - 43/100 \n",
      "[===========] d_loss: 0.2968529611706797 - g_loss: 4.12428315450896 \n",
      "Epochs - 44/100 \n",
      "[===========] d_loss: 0.2980553451846086 - g_loss: 4.157961480144753 \n",
      "Epochs - 45/100 \n",
      "[===========] d_loss: 0.2654501641812577 - g_loss: 4.206036763913088 \n",
      "Epochs - 46/100 \n",
      "[===========] d_loss: 0.3049395181564316 - g_loss: 4.1911686481570385 \n",
      "Epochs - 47/100 \n",
      "[===========] d_loss: 0.29908897125247574 - g_loss: 4.19245975841083 \n",
      "Epochs - 48/100 \n",
      "[===========] d_loss: 0.2873564318918597 - g_loss: 4.181376859450391 \n",
      "Epochs - 49/100 \n",
      "[===========] d_loss: 0.2802805207979514 - g_loss: 4.264707855705513 \n",
      "Epochs - 50/100 \n",
      "[===========] d_loss: 0.2604478694129187 - g_loss: 4.290965815851175 \n",
      "Epochs - 51/100 \n",
      "[===========] d_loss: 0.28451113653843846 - g_loss: 4.300691845828791 \n",
      "Epochs - 52/100 \n",
      "[===========] d_loss: 0.27899046293271185 - g_loss: 4.330322068192557 \n",
      "Epochs - 53/100 \n",
      "[===========] d_loss: 0.2554584393766262 - g_loss: 4.378967030089039 \n",
      "Epochs - 54/100 \n",
      "[===========] d_loss: 0.2824268471588617 - g_loss: 4.388231228346001 \n",
      "Epochs - 55/100 \n",
      "[===========] d_loss: 0.26466749441514076 - g_loss: 4.399928121551522 \n",
      "Epochs - 56/100 \n",
      "[===========] d_loss: 0.26575909958068117 - g_loss: 4.449940427025752 \n",
      "Epochs - 57/100 \n",
      "[===========] d_loss: 0.2652277254930405 - g_loss: 4.477108624698257 \n",
      "Epochs - 58/100 \n",
      "[===========] d_loss: 0.27288508934300465 - g_loss: 4.453601801636885 \n",
      "Epochs - 59/100 \n",
      "[===========] d_loss: 0.25839852283138837 - g_loss: 4.5069586292131625 \n",
      "Epochs - 60/100 \n",
      "[===========] d_loss: 0.27656694555849726 - g_loss: 4.458969486293508 \n",
      "Epochs - 61/100 \n",
      "[===========] d_loss: 0.24703982986136477 - g_loss: 4.536965520397178 \n",
      "Epochs - 62/100 \n",
      "[===========] d_loss: 0.26608972567350053 - g_loss: 4.533034275399088 \n",
      "Epochs - 63/100 \n",
      "[===========] d_loss: 0.2318244488623891 - g_loss: 4.600184896226122 \n",
      "Epochs - 64/100 \n",
      "[===========] d_loss: 0.25014000440210993 - g_loss: 4.601625629198322 \n",
      "Epochs - 65/100 \n",
      "[===========] d_loss: 0.27519068901718996 - g_loss: 4.608405409591285 \n",
      "Epochs - 66/100 \n",
      "[===========] d_loss: 0.2354577694779266 - g_loss: 4.664598164527909 \n",
      "Epochs - 67/100 \n",
      "[===========] d_loss: 0.2656229572581139 - g_loss: 4.593709914097145 \n",
      "Epochs - 68/100 \n",
      "[===========] d_loss: 0.23773868171982707 - g_loss: 4.645479356556304 \n",
      "Epochs - 69/100 \n",
      "[===========] d_loss: 0.2612460962435139 - g_loss: 4.638574397036516 \n",
      "Epochs - 70/100 \n",
      "[===========] d_loss: 0.2515284615550945 - g_loss: 4.711860974460269 \n",
      "Epochs - 71/100 \n",
      "[===========] d_loss: 0.21492283781076957 - g_loss: 4.7938279908603185 \n",
      "Epochs - 72/100 \n",
      "[===========] d_loss: 0.2520789220206328 - g_loss: 4.760181420139158 \n",
      "Epochs - 73/100 \n",
      "[===========] d_loss: 0.22690082705621398 - g_loss: 4.825184141267846 \n",
      "Epochs - 74/100 \n",
      "[===========] d_loss: 0.22371930327973386 - g_loss: 4.8206994866193735 \n",
      "Epochs - 75/100 \n",
      "[===========] d_loss: 0.23002212378543926 - g_loss: 4.85896397259698 \n",
      "Epochs - 76/100 \n",
      "[===========] d_loss: 0.24543182826293175 - g_loss: 4.811071503391144 \n",
      "Epochs - 77/100 \n",
      "[===========] d_loss: 0.228858820518165 - g_loss: 4.890859336359923 \n",
      "Epochs - 78/100 \n",
      "[===========] d_loss: 0.21902903164826285 - g_loss: 4.864375099571529 \n",
      "Epochs - 79/100 \n",
      "[===========] d_loss: 0.23603221975457567 - g_loss: 4.885645217542201 \n",
      "Epochs - 80/100 \n",
      "[===========] d_loss: 0.20770373340767584 - g_loss: 4.967836457910314 \n",
      "Epochs - 81/100 \n",
      "[===========] d_loss: 0.24883119171278786 - g_loss: 4.925723851362525 \n",
      "Epochs - 82/100 \n",
      "[===========] d_loss: 0.22667315764142187 - g_loss: 4.949102986468944 \n",
      "Epochs - 83/100 \n",
      "[===========] d_loss: 0.22397416554240465 - g_loss: 4.938544548142439 \n",
      "Epochs - 84/100 \n",
      "[===========] d_loss: 0.20231605716633486 - g_loss: 5.038654543507073 \n",
      "Epochs - 85/100 \n",
      "[===========] d_loss: 0.22419097606759908 - g_loss: 5.04298895222546 \n",
      "Epochs - 86/100 \n",
      "[===========] d_loss: 0.21263060051955776 - g_loss: 5.042690145626251 \n",
      "Epochs - 87/100 \n",
      "[===========] d_loss: 0.2529674655517567 - g_loss: 4.9684296703692885 \n",
      "Epochs - 88/100 \n",
      "[===========] d_loss: 0.21651348620772298 - g_loss: 4.9860181956530125 \n",
      "Epochs - 89/100 \n",
      "[===========] d_loss: 0.17830453190837364 - g_loss: 5.114525508334133 \n",
      "Epochs - 90/100 \n",
      "[===========] d_loss: 0.23010824634127622 - g_loss: 5.1236074583362665 \n",
      "Epochs - 91/100 \n",
      "[===========] d_loss: 0.21185741467135294 - g_loss: 5.048811684285146 \n",
      "Epochs - 92/100 \n",
      "[===========] d_loss: 0.22073794735361263 - g_loss: 5.075027403133764 \n",
      "Epochs - 93/100 \n",
      "[===========] d_loss: 0.1980038988761413 - g_loss: 5.170384108638967 \n",
      "Epochs - 94/100 \n",
      "[===========] d_loss: 0.18514458417519133 - g_loss: 5.206301725368256 \n",
      "Epochs - 95/100 \n",
      "[===========] d_loss: 0.2508068600637731 - g_loss: 5.1841079043045735 \n",
      "Epochs - 96/100 \n",
      "[===========] d_loss: 0.19262448788932296 - g_loss: 5.168533401702767 \n",
      "Epochs - 97/100 \n",
      "[===========] d_loss: 0.1760320963927789 - g_loss: 5.3232236976054175 \n",
      "Epochs - 98/100 \n",
      "[===========] d_loss: 0.19303519904677038 - g_loss: 5.292969492452739 \n",
      "Epochs - 99/100 \n",
      "[===========] d_loss: 0.24156389396482789 - g_loss: 5.205045232799516 \n",
      "Epochs - 100/100 \n",
      "[===========] d_loss: 0.16244376443429734 - g_loss: 5.3488405221052515 \n"
     ]
    }
   ],
   "source": [
    "# Train the DCGAN\n",
    "\n",
    "epochs = 100\n",
    "\n",
    "for epoch in range(epochs):\n",
    "    d_loss = []\n",
    "    g_loss = []\n",
    "    for index, (real_samples, _) in enumerate(dataloader):\n",
    "        real_samples = real_samples.to(device)\n",
    "        batch_size = real_samples.shape[0]\n",
    "        \n",
    "        real_labels = torch.ones((batch_size, 1)).to(device)\n",
    "        fake_labels = torch.zeros((batch_size, 1)).to(device)\n",
    "        \n",
    "        noise_data = torch.randn(batch_size, latent_space, 1, 1).to(device)\n",
    "        fake_samples = generator(noise_data)\n",
    "        \n",
    "        real_predicted = discriminator(real_samples)\n",
    "        fake_predicted = discriminator(fake_samples.detach())\n",
    "        \n",
    "        real_loss = loss_function(real_predicted, real_labels)\n",
    "        fake_loss = loss_function(fake_predicted, fake_labels)\n",
    "        \n",
    "        total_loss = real_loss + fake_loss\n",
    "        \n",
    "        optimizer_discriminator.zero_grad()\n",
    "        total_loss.backward()\n",
    "        optimizer_discriminator.step()\n",
    "        \n",
    "        generated_predicted = discriminator(fake_samples)\n",
    "        generated_loss = loss_function(generated_predicted, real_labels)\n",
    "        \n",
    "        optimizer_generator.zero_grad()\n",
    "        generated_loss.backward()\n",
    "        optimizer_generator.step()\n",
    "        \n",
    "        d_loss.append(total_loss.item())\n",
    "        g_loss.append(generated_loss.item())\n",
    "        \n",
    "    print(\"Epochs - {}/{} \".format(epoch+1, epochs))\n",
    "    print(\"[===========] d_loss: {} - g_loss: {} \".format(np.array(d_loss).mean(), np.array(g_loss).mean()))\n",
    "        "
   ]
  },
  {
   "cell_type": "code",
   "execution_count": 90,
   "metadata": {},
   "outputs": [],
   "source": [
    "noise_data = torch.randn(20, latent_space, 1, 1).to(device)\n",
    "generated_samples = generator(noise_data)"
   ]
  },
  {
   "cell_type": "code",
   "execution_count": 91,
   "metadata": {},
   "outputs": [
    {
     "data": {
      "image/png": "[encoded data removed]",
      "text/plain": [
       "<Figure size 1000x1000 with 20 Axes>"
      ]
     },
     "metadata": {},
     "output_type": "display_data"
    }
   ],
   "source": [
    "plt.figure(figsize=(10,10))\n",
    "\n",
    "for index, Image in enumerate(generated_samples):\n",
    "    plt.subplot(4, 5, index+1)\n",
    "    plt.imshow(Image.detach().cpu().squeeze(), cmap='gray')\n",
    "    plt.axis('off')\n",
    "plt.tight_layout()\n",
    "plt.show()"
   ]
  },
  {
   "cell_type": "code",
   "execution_count": null,
   "metadata": {},
   "outputs": [],
   "source": []
  }
 ],
 "metadata": {
  "kernelspec": {
   "display_name": "GPSG",
   "language": "python",
   "name": "python3"
  },
  "language_info": {
   "codemirror_mode": {
    "name": "ipython",
    "version": 3
   },
   "file_extension": ".py",
   "mimetype": "text/x-python",
   "name": "python",
   "nbconvert_exporter": "python",
   "pygments_lexer": "ipython3",
   "version": "3.9.18"
  }
 },
 "nbformat": 4,
 "nbformat_minor": 2
}
